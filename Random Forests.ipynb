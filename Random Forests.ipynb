{
 "cells": [
  {
   "cell_type": "code",
   "execution_count": 20,
   "metadata": {
    "collapsed": true
   },
   "outputs": [],
   "source": [
    "import csv\n",
    "import numpy as np\n",
    "import matplotlib.pyplot as plt\n",
    "import collections as col\n",
    "from sklearn.ensemble import RandomForestClassifier\n",
    "from sklearn.model_selection import cross_val_score"
   ]
  },
  {
   "cell_type": "code",
   "execution_count": 21,
   "metadata": {
    "collapsed": true
   },
   "outputs": [],
   "source": [
    "with open('train.csv',newline='') as csvfile:\n",
    "    spamreader = csv.reader(csvfile)\n",
    "    i=0\n",
    "    link = \"http://\"\n",
    "    xTr = np.ones((1089,2))\n",
    "    yTr = []\n",
    "    for row in spamreader:\n",
    "        #only take id,text and label\n",
    "        if i !=0:\n",
    "            #dic.update({row[0]:[row[1],row[-1]]})\n",
    "            # the first feature is whether text has link or not\n",
    "            if link in row[1]:\n",
    "                xTr[i-1][0] = 1\n",
    "            else:\n",
    "                xTr[i-1][0] = 0\n",
    "#             xTr[i-1][1] = row[3] # the second feature is favoriteCount\n",
    "            #the third feature is time\n",
    "            xTr[i-1][1] = int(row[5].split(' ')[1].split(':')[0]) \n",
    "#             xTr[i-1][3] =  row[12] #the forth feature is retweetCount \n",
    "            yTr.append(int(row[-1]))\n",
    "        i += 1\n",
    "    yTr = np.array(yTr)"
   ]
  },
  {
   "cell_type": "code",
   "execution_count": 22,
   "metadata": {},
   "outputs": [
    {
     "data": {
      "text/plain": [
       "array([ 0.,  0.])"
      ]
     },
     "execution_count": 22,
     "metadata": {},
     "output_type": "execute_result"
    }
   ],
   "source": [
    "xTr[0]"
   ]
  },
  {
   "cell_type": "code",
   "execution_count": 23,
   "metadata": {
    "collapsed": true
   },
   "outputs": [],
   "source": [
    "n = len(yTr)\n",
    "split = int(n*0.8)\n",
    "x_Tr = xTr[:split,:]\n",
    "y_Tr = yTr[:split]\n",
    "x_Vali = xTr[split:,:]\n",
    "y_Vali = yTr[split:]\n",
    "split_2 = int(n*0.2)\n",
    "x_v = xTr[:split_2,:]\n",
    "y_v = yTr[:split_2]\n",
    "x_t = xTr[split_2:,:]\n",
    "y_t = yTr[split_2:]"
   ]
  },
  {
   "cell_type": "code",
   "execution_count": 24,
   "metadata": {},
   "outputs": [],
   "source": [
    "clf = RandomForestClassifier(n_estimators = 150, max_depth = 2, random_state = 0)\n",
    "# clf.fit(x_t,y_t)\n"
   ]
  },
  {
   "cell_type": "code",
   "execution_count": 28,
   "metadata": {},
   "outputs": [
    {
     "name": "stdout",
     "output_type": "stream",
     "text": [
      "0.681296241492\n"
     ]
    }
   ],
   "source": [
    "scores = cross_val_score(clf, xTr, yTr, cv=5)\n",
    "# out = clf.predict(x_v)\n",
    "# error = len(np.where((out+y_v) == 0))/len(y_v)\n",
    "# print(\"accuracy: \", (100-error*100))\n",
    "print(scores.mean())"
   ]
  },
  {
   "cell_type": "code",
   "execution_count": 10,
   "metadata": {
    "collapsed": true
   },
   "outputs": [],
   "source": [
    "with open('test.csv',newline='') as csvfile:\n",
    "    spamreader = csv.reader(csvfile)\n",
    "    i=0\n",
    "    #dic={}\n",
    "    xTe = np.ones((300,4))\n",
    "    for row in spamreader:\n",
    "        #only take id,text and label\n",
    "        if i != 0:\n",
    "            if link in row[1]:\n",
    "                xTe[i-1][0] = 1\n",
    "            else:\n",
    "                xTe[i-1][0] = 0\n",
    "            xTe[i-1][1] = row[3] # the second feature is favoriteCount\n",
    "            #the third feature is time\n",
    "            xTe[i-1][2] = int(row[5].split(' ')[1].split(':')[0]) \n",
    "            xTe[i-1][3] =  row[11] #the forth feature is retweetCount \n",
    "        i += 1"
   ]
  },
  {
   "cell_type": "code",
   "execution_count": 11,
   "metadata": {},
   "outputs": [
    {
     "name": "stdout",
     "output_type": "stream",
     "text": [
      "[    0.  9214.    15.  3107.]\n",
      "[ 1  1  1 -1 -1  1  1  1  1 -1 -1  1  1  1  1  1  1 -1 -1  1  1  1  1  1  1\n",
      " -1 -1 -1  1  1 -1 -1 -1  1  1  1 -1 -1 -1 -1 -1 -1 -1 -1  1  1  1  1 -1 -1\n",
      " -1 -1 -1 -1 -1 -1 -1 -1 -1 -1 -1 -1 -1  1  1  1  1  1  1  1 -1 -1  1  1  1\n",
      " -1 -1 -1 -1 -1 -1 -1 -1 -1 -1 -1 -1 -1  1  1  1  1  1  1  1 -1 -1 -1 -1 -1\n",
      " -1  1  1  1  1  1  1  1  1  1  1  1  1  1  1  1  1  1  1  1  1  1 -1 -1 -1\n",
      " -1 -1 -1 -1  1  1  1  1  1 -1 -1 -1 -1 -1  1 -1  1  1  1  1  1  1  1  1  1\n",
      "  1  1  1 -1 -1 -1 -1 -1 -1 -1 -1 -1  1  1  1  1  1  1  1 -1 -1 -1 -1 -1 -1\n",
      " -1  1  1  1  1  1 -1 -1 -1 -1 -1 -1 -1  1  1  1  1  1  1  1  1 -1 -1 -1 -1\n",
      " -1  1  1  1  1  1  1  1  1  1  1  1 -1  1  1  1  1  1 -1 -1  1  1  1  1  1\n",
      "  1  1  1  1  1  1 -1 -1 -1  1  1  1 -1 -1 -1 -1  1  1  1 -1 -1 -1 -1 -1 -1\n",
      " -1 -1 -1 -1  1  1  1  1  1  1  1  1  1  1  1  1 -1 -1 -1  1  1  1 -1 -1 -1\n",
      " -1 -1 -1 -1 -1 -1 -1 -1  1  1  1  1 -1 -1 -1 -1 -1 -1  1  1  1  1  1  1  1]\n"
     ]
    }
   ],
   "source": [
    "print(xTe[0])\n",
    "predicted = clf.predict(xTe)\n",
    "print(predicted)\n",
    "ID = np.arange(0,len(predicted)+1)\n",
    "data = zip(ID,predicted)\n",
    "with open('result_RF_v2.csv','w',newline='') as csvfile:\n",
    "    spamwriter = csv.writer(csvfile)\n",
    "    spamwriter.writerow([\"ID\",\"Label\"])\n",
    "    for d in data:\n",
    "        spamwriter.writerow(d)"
   ]
  },
  {
   "cell_type": "code",
   "execution_count": null,
   "metadata": {
    "collapsed": true
   },
   "outputs": [],
   "source": []
  }
 ],
 "metadata": {
  "kernelspec": {
   "display_name": "Python 3",
   "language": "python",
   "name": "python3"
  },
  "language_info": {
   "codemirror_mode": {
    "name": "ipython",
    "version": 3
   },
   "file_extension": ".py",
   "mimetype": "text/x-python",
   "name": "python",
   "nbconvert_exporter": "python",
   "pygments_lexer": "ipython3",
   "version": "3.6.1"
  }
 },
 "nbformat": 4,
 "nbformat_minor": 2
}
